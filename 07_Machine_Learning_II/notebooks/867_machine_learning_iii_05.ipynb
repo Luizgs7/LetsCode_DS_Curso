{
 "cells": [
  {
   "cell_type": "markdown",
   "id": "78cf951b",
   "metadata": {},
   "source": [
    "# Na aula anterior..."
   ]
  },
  {
   "cell_type": "markdown",
   "id": "5f28b2bc",
   "metadata": {},
   "source": [
    "Qual a importância de realizar um grid search?"
   ]
  },
  {
   "cell_type": "raw",
   "id": "1b9dc071",
   "metadata": {},
   "source": []
  },
  {
   "cell_type": "markdown",
   "id": "1c77fb0d",
   "metadata": {},
   "source": [
    "Qual utilidade das Pipelines do sklearn dentro do universo de Ciência de Dados?"
   ]
  },
  {
   "cell_type": "code",
   "execution_count": null,
   "id": "048b3244",
   "metadata": {},
   "outputs": [],
   "source": []
  },
  {
   "cell_type": "markdown",
   "id": "10adcfb9",
   "metadata": {},
   "source": [
    "# Hoje!"
   ]
  },
  {
   "cell_type": "markdown",
   "id": "34899b86",
   "metadata": {},
   "source": [
    "**Para vocês**: otimizem os hiperparâmetros de um dos modelos de vocês."
   ]
  },
  {
   "cell_type": "code",
   "execution_count": null,
   "id": "254166d6",
   "metadata": {},
   "outputs": [],
   "source": []
  },
  {
   "cell_type": "markdown",
   "id": "26f46915",
   "metadata": {},
   "source": [
    "**Para vocês**: organizem o projeto de vocês para que o pré-processamento e o modelo esteja no formato de pipeline."
   ]
  },
  {
   "cell_type": "code",
   "execution_count": null,
   "id": "24e708a4",
   "metadata": {},
   "outputs": [],
   "source": []
  },
  {
   "cell_type": "markdown",
   "id": "3e3d603f",
   "metadata": {},
   "source": [
    "## SVM\n",
    "\n",
    "- Material complementar: [Aula do professor Patrick Winston](https://www.youtube.com/watch?v=_PwhiWxHK8o)\n",
    "- Todos os modelos de classificação possuem um [fronteira de decisão](https://ml-playground.com/).\n",
    "- Algoritmos já vistos não são construídas em torno desse conceito. \n",
    "- O objetivo do SVM é encontrar uma fronteira que consiga separar o conjunto de dados em classes positivas e negativas\n",
    "- Em um plano, existe um conjunto infinito de linhas que podem seperar duas classes\n",
    "- Mas, qual o melhor?\n",
    "\n",
    "<center><img src=\"https://s3-sa-east-1.amazonaws.com/lcpi/fceb4ea0-9de8-4048-9cc4-c9d4355b671c.png\" width = 25%/></center>\n",
    "\n",
    "- Aplicando com sklearn."
   ]
  },
  {
   "cell_type": "code",
   "execution_count": null,
   "id": "bf8ad88a",
   "metadata": {},
   "outputs": [],
   "source": []
  },
  {
   "cell_type": "markdown",
   "id": "4865e0c6",
   "metadata": {},
   "source": [
    "- Mostrando um caso linear."
   ]
  },
  {
   "cell_type": "code",
   "execution_count": null,
   "id": "ce936107",
   "metadata": {},
   "outputs": [],
   "source": []
  },
  {
   "cell_type": "markdown",
   "id": "566fbd74",
   "metadata": {},
   "source": [
    "- Esse algoritmo, apesar de lindo, é pouco prático as is, porque traça fronteiras lineares, mas o mundo não é linear. Então, durante 20 anos, o SVM ficou \"engavatado\" até que a ideia do Kernel Trick apareceu."
   ]
  },
  {
   "cell_type": "code",
   "execution_count": null,
   "id": "49954f4e",
   "metadata": {},
   "outputs": [],
   "source": []
  }
 ],
 "metadata": {
  "kernelspec": {
   "display_name": "Python 3 (ipykernel)",
   "language": "python",
   "name": "python3"
  },
  "language_info": {
   "codemirror_mode": {
    "name": "ipython",
    "version": 3
   },
   "file_extension": ".py",
   "mimetype": "text/x-python",
   "name": "python",
   "nbconvert_exporter": "python",
   "pygments_lexer": "ipython3",
   "version": "3.9.14"
  }
 },
 "nbformat": 4,
 "nbformat_minor": 5
}
