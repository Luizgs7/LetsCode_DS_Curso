{
 "cells": [
  {
   "cell_type": "markdown",
   "id": "c53d2296",
   "metadata": {},
   "source": [
    "## Resumo"
   ]
  },
  {
   "cell_type": "markdown",
   "id": "57ffe871",
   "metadata": {},
   "source": [
    "| Gráfico            | Pandas                                | Matplotlib                         | Seaborn                                | Plotly                                               |\n",
    "|--------------------|---------------------------------------|------------------------------------|----------------------------------------|------------------------------------------------------|\n",
    "| Dispersão          | df.plot(x='x', y='y', kind='scatter') | plt.scatter(x='x', y='y', data=df) | sns.scatterplot(x='x', y='y', data=df) | px.scatter(x='x', y='y', data_frame=df)              |\n",
    "| Linhas             | df.plot(x='x', y='y', kind='line');   | plt.plot(x='x', y='y', data=df)    | sns.lineplot(x='x', y='y', data=df)    | px.line(x='x', y='y', data_frame=df)                 |\n",
    "| Pizza              | df.plot(y='y', kind='pie');           | plt.pie(x='x', data=df)            |                                        | px.pie(names='x', values='y', data_frame=df)         |\n",
    "| Barras Horizontais | df.plot(x='x', y='y', kind='barh');   | plt.bar(x='x', y='y', data=df)     | sns.barplot(x='y', y='x', data=df)     | px.bar(x='x', y='y', data_frame=df, orientation='h') |\n",
    "| Barras Verticais   | df.plot(x='x', y='y', kind='bar');    | plt.barh(x='x', y='y', data=df)    | sns.barplot(x='x', y='y', data=df)     | px.bar(x='x', y='y', data_frame=df)                  |\n",
    "| Histograma         | df.plot(y='y', kind='hist);           | plt.hist(x='x', data=df)           | sns.histplot(x='x', data=df)           | px.histogram(data_frame=df, x='x')                   |\n",
    "| Boxplot            | df.plot(x='x', y='y', kind='box);     | plt.boxplot(x='x', data=df)        | sns.boxplot(y='y', data=df)            | px.box(data_frame=df, y='y')                         |\n",
    "\n",
    "**Observações**\n",
    "1. Os parâmetros 'x' e 'y' são exemplos para os nomes das colunas de interesse em X e Y\n",
    "2. Além da forma de se passar o dataframe no parâmetro (como exemplificado na tabela acima) é possível utilizar no formato df['nome_da_coluna']\n",
    "3. Quando não é passada a igualdade do parâmetro (ex.: x=) o python entende a ordem padrão presente nas documentações de cada pacote\n",
    "\n",
    "É possível alterar o layout dos gráficos\n",
    "1. Para os pacotes **Pandas**, **Matplotlib** e **Seaborn** utiliza-se, em geral, os métodos de <u>plt.subplots</u> ou <u>plt.figure</u> do matplotlib para controlar seu layout. Já o Plotly se utiliza do <u>update_layout</u>."
   ]
  }
 ],
 "metadata": {
  "kernelspec": {
   "display_name": "Python 3 (ipykernel)",
   "language": "python",
   "name": "python3"
  },
  "language_info": {
   "codemirror_mode": {
    "name": "ipython",
    "version": 3
   },
   "file_extension": ".py",
   "mimetype": "text/x-python",
   "name": "python",
   "nbconvert_exporter": "python",
   "pygments_lexer": "ipython3",
   "version": "3.9.7"
  }
 },
 "nbformat": 4,
 "nbformat_minor": 5
}
